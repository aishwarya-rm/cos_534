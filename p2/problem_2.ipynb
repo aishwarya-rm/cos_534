{
 "cells": [
  {
   "cell_type": "code",
   "execution_count": 1,
   "id": "worst-playback",
   "metadata": {},
   "outputs": [],
   "source": [
    "# Make sure of false negative/positive values are actually correct"
   ]
  },
  {
   "cell_type": "code",
   "execution_count": 2,
   "id": "excess-baptist",
   "metadata": {},
   "outputs": [],
   "source": [
    "import os, sys\n",
    "import numpy as np\n",
    "import pandas as pd\n",
    "import matplotlib.pyplot as plt\n",
    "import seaborn as sns"
   ]
  },
  {
   "cell_type": "code",
   "execution_count": 3,
   "id": "indie-rachel",
   "metadata": {},
   "outputs": [
    {
     "data": {
      "text/html": [
       "<div>\n",
       "<style scoped>\n",
       "    .dataframe tbody tr th:only-of-type {\n",
       "        vertical-align: middle;\n",
       "    }\n",
       "\n",
       "    .dataframe tbody tr th {\n",
       "        vertical-align: top;\n",
       "    }\n",
       "\n",
       "    .dataframe thead th {\n",
       "        text-align: right;\n",
       "    }\n",
       "</style>\n",
       "<table border=\"1\" class=\"dataframe\">\n",
       "  <thead>\n",
       "    <tr style=\"text-align: right;\">\n",
       "      <th></th>\n",
       "      <th>id</th>\n",
       "      <th>name</th>\n",
       "      <th>first</th>\n",
       "      <th>last</th>\n",
       "      <th>compas_screening_date</th>\n",
       "      <th>sex</th>\n",
       "      <th>dob</th>\n",
       "      <th>age</th>\n",
       "      <th>age_cat</th>\n",
       "      <th>race</th>\n",
       "      <th>...</th>\n",
       "      <th>v_decile_score</th>\n",
       "      <th>v_score_text</th>\n",
       "      <th>v_screening_date</th>\n",
       "      <th>in_custody</th>\n",
       "      <th>out_custody</th>\n",
       "      <th>priors_count.1</th>\n",
       "      <th>start</th>\n",
       "      <th>end</th>\n",
       "      <th>event</th>\n",
       "      <th>two_year_recid</th>\n",
       "    </tr>\n",
       "  </thead>\n",
       "  <tbody>\n",
       "    <tr>\n",
       "      <th>0</th>\n",
       "      <td>1</td>\n",
       "      <td>miguel hernandez</td>\n",
       "      <td>miguel</td>\n",
       "      <td>hernandez</td>\n",
       "      <td>2013-08-14</td>\n",
       "      <td>Male</td>\n",
       "      <td>1947-04-18</td>\n",
       "      <td>69</td>\n",
       "      <td>Greater than 45</td>\n",
       "      <td>Other</td>\n",
       "      <td>...</td>\n",
       "      <td>1</td>\n",
       "      <td>Low</td>\n",
       "      <td>2013-08-14</td>\n",
       "      <td>2014-07-07</td>\n",
       "      <td>2014-07-14</td>\n",
       "      <td>0</td>\n",
       "      <td>0</td>\n",
       "      <td>327</td>\n",
       "      <td>0</td>\n",
       "      <td>0</td>\n",
       "    </tr>\n",
       "    <tr>\n",
       "      <th>1</th>\n",
       "      <td>3</td>\n",
       "      <td>kevon dixon</td>\n",
       "      <td>kevon</td>\n",
       "      <td>dixon</td>\n",
       "      <td>2013-01-27</td>\n",
       "      <td>Male</td>\n",
       "      <td>1982-01-22</td>\n",
       "      <td>34</td>\n",
       "      <td>25 - 45</td>\n",
       "      <td>African-American</td>\n",
       "      <td>...</td>\n",
       "      <td>1</td>\n",
       "      <td>Low</td>\n",
       "      <td>2013-01-27</td>\n",
       "      <td>2013-01-26</td>\n",
       "      <td>2013-02-05</td>\n",
       "      <td>0</td>\n",
       "      <td>9</td>\n",
       "      <td>159</td>\n",
       "      <td>1</td>\n",
       "      <td>1</td>\n",
       "    </tr>\n",
       "    <tr>\n",
       "      <th>2</th>\n",
       "      <td>4</td>\n",
       "      <td>ed philo</td>\n",
       "      <td>ed</td>\n",
       "      <td>philo</td>\n",
       "      <td>2013-04-14</td>\n",
       "      <td>Male</td>\n",
       "      <td>1991-05-14</td>\n",
       "      <td>24</td>\n",
       "      <td>Less than 25</td>\n",
       "      <td>African-American</td>\n",
       "      <td>...</td>\n",
       "      <td>3</td>\n",
       "      <td>Low</td>\n",
       "      <td>2013-04-14</td>\n",
       "      <td>2013-06-16</td>\n",
       "      <td>2013-06-16</td>\n",
       "      <td>4</td>\n",
       "      <td>0</td>\n",
       "      <td>63</td>\n",
       "      <td>0</td>\n",
       "      <td>1</td>\n",
       "    </tr>\n",
       "    <tr>\n",
       "      <th>5</th>\n",
       "      <td>7</td>\n",
       "      <td>marsha miles</td>\n",
       "      <td>marsha</td>\n",
       "      <td>miles</td>\n",
       "      <td>2013-11-30</td>\n",
       "      <td>Male</td>\n",
       "      <td>1971-08-22</td>\n",
       "      <td>44</td>\n",
       "      <td>25 - 45</td>\n",
       "      <td>Other</td>\n",
       "      <td>...</td>\n",
       "      <td>1</td>\n",
       "      <td>Low</td>\n",
       "      <td>2013-11-30</td>\n",
       "      <td>2013-11-30</td>\n",
       "      <td>2013-12-01</td>\n",
       "      <td>0</td>\n",
       "      <td>1</td>\n",
       "      <td>853</td>\n",
       "      <td>0</td>\n",
       "      <td>0</td>\n",
       "    </tr>\n",
       "    <tr>\n",
       "      <th>6</th>\n",
       "      <td>8</td>\n",
       "      <td>edward riddle</td>\n",
       "      <td>edward</td>\n",
       "      <td>riddle</td>\n",
       "      <td>2014-02-19</td>\n",
       "      <td>Male</td>\n",
       "      <td>1974-07-23</td>\n",
       "      <td>41</td>\n",
       "      <td>25 - 45</td>\n",
       "      <td>Caucasian</td>\n",
       "      <td>...</td>\n",
       "      <td>2</td>\n",
       "      <td>Low</td>\n",
       "      <td>2014-02-19</td>\n",
       "      <td>2014-03-31</td>\n",
       "      <td>2014-04-18</td>\n",
       "      <td>14</td>\n",
       "      <td>5</td>\n",
       "      <td>40</td>\n",
       "      <td>1</td>\n",
       "      <td>1</td>\n",
       "    </tr>\n",
       "    <tr>\n",
       "      <th>...</th>\n",
       "      <td>...</td>\n",
       "      <td>...</td>\n",
       "      <td>...</td>\n",
       "      <td>...</td>\n",
       "      <td>...</td>\n",
       "      <td>...</td>\n",
       "      <td>...</td>\n",
       "      <td>...</td>\n",
       "      <td>...</td>\n",
       "      <td>...</td>\n",
       "      <td>...</td>\n",
       "      <td>...</td>\n",
       "      <td>...</td>\n",
       "      <td>...</td>\n",
       "      <td>...</td>\n",
       "      <td>...</td>\n",
       "      <td>...</td>\n",
       "      <td>...</td>\n",
       "      <td>...</td>\n",
       "      <td>...</td>\n",
       "      <td>...</td>\n",
       "    </tr>\n",
       "    <tr>\n",
       "      <th>7209</th>\n",
       "      <td>10996</td>\n",
       "      <td>steven butler</td>\n",
       "      <td>steven</td>\n",
       "      <td>butler</td>\n",
       "      <td>2013-11-23</td>\n",
       "      <td>Male</td>\n",
       "      <td>1992-07-17</td>\n",
       "      <td>23</td>\n",
       "      <td>Less than 25</td>\n",
       "      <td>African-American</td>\n",
       "      <td>...</td>\n",
       "      <td>5</td>\n",
       "      <td>Medium</td>\n",
       "      <td>2013-11-23</td>\n",
       "      <td>2013-11-22</td>\n",
       "      <td>2013-11-24</td>\n",
       "      <td>0</td>\n",
       "      <td>1</td>\n",
       "      <td>860</td>\n",
       "      <td>0</td>\n",
       "      <td>0</td>\n",
       "    </tr>\n",
       "    <tr>\n",
       "      <th>7210</th>\n",
       "      <td>10997</td>\n",
       "      <td>malcolm simmons</td>\n",
       "      <td>malcolm</td>\n",
       "      <td>simmons</td>\n",
       "      <td>2014-02-01</td>\n",
       "      <td>Male</td>\n",
       "      <td>1993-03-25</td>\n",
       "      <td>23</td>\n",
       "      <td>Less than 25</td>\n",
       "      <td>African-American</td>\n",
       "      <td>...</td>\n",
       "      <td>5</td>\n",
       "      <td>Medium</td>\n",
       "      <td>2014-02-01</td>\n",
       "      <td>2014-01-31</td>\n",
       "      <td>2014-02-02</td>\n",
       "      <td>0</td>\n",
       "      <td>1</td>\n",
       "      <td>790</td>\n",
       "      <td>0</td>\n",
       "      <td>0</td>\n",
       "    </tr>\n",
       "    <tr>\n",
       "      <th>7211</th>\n",
       "      <td>10999</td>\n",
       "      <td>winston gregory</td>\n",
       "      <td>winston</td>\n",
       "      <td>gregory</td>\n",
       "      <td>2014-01-14</td>\n",
       "      <td>Male</td>\n",
       "      <td>1958-10-01</td>\n",
       "      <td>57</td>\n",
       "      <td>Greater than 45</td>\n",
       "      <td>Other</td>\n",
       "      <td>...</td>\n",
       "      <td>1</td>\n",
       "      <td>Low</td>\n",
       "      <td>2014-01-14</td>\n",
       "      <td>2014-01-13</td>\n",
       "      <td>2014-01-14</td>\n",
       "      <td>0</td>\n",
       "      <td>0</td>\n",
       "      <td>808</td>\n",
       "      <td>0</td>\n",
       "      <td>0</td>\n",
       "    </tr>\n",
       "    <tr>\n",
       "      <th>7212</th>\n",
       "      <td>11000</td>\n",
       "      <td>farrah jean</td>\n",
       "      <td>farrah</td>\n",
       "      <td>jean</td>\n",
       "      <td>2014-03-09</td>\n",
       "      <td>Female</td>\n",
       "      <td>1982-11-17</td>\n",
       "      <td>33</td>\n",
       "      <td>25 - 45</td>\n",
       "      <td>African-American</td>\n",
       "      <td>...</td>\n",
       "      <td>2</td>\n",
       "      <td>Low</td>\n",
       "      <td>2014-03-09</td>\n",
       "      <td>2014-03-08</td>\n",
       "      <td>2014-03-09</td>\n",
       "      <td>3</td>\n",
       "      <td>0</td>\n",
       "      <td>754</td>\n",
       "      <td>0</td>\n",
       "      <td>0</td>\n",
       "    </tr>\n",
       "    <tr>\n",
       "      <th>7213</th>\n",
       "      <td>11001</td>\n",
       "      <td>florencia sanmartin</td>\n",
       "      <td>florencia</td>\n",
       "      <td>sanmartin</td>\n",
       "      <td>2014-06-30</td>\n",
       "      <td>Female</td>\n",
       "      <td>1992-12-18</td>\n",
       "      <td>23</td>\n",
       "      <td>Less than 25</td>\n",
       "      <td>Hispanic</td>\n",
       "      <td>...</td>\n",
       "      <td>4</td>\n",
       "      <td>Low</td>\n",
       "      <td>2014-06-30</td>\n",
       "      <td>2015-03-15</td>\n",
       "      <td>2015-03-15</td>\n",
       "      <td>2</td>\n",
       "      <td>0</td>\n",
       "      <td>258</td>\n",
       "      <td>0</td>\n",
       "      <td>1</td>\n",
       "    </tr>\n",
       "  </tbody>\n",
       "</table>\n",
       "<p>6172 rows × 53 columns</p>\n",
       "</div>"
      ],
      "text/plain": [
       "         id                 name      first       last compas_screening_date  \\\n",
       "0         1     miguel hernandez     miguel  hernandez            2013-08-14   \n",
       "1         3          kevon dixon      kevon      dixon            2013-01-27   \n",
       "2         4             ed philo         ed      philo            2013-04-14   \n",
       "5         7         marsha miles     marsha      miles            2013-11-30   \n",
       "6         8        edward riddle     edward     riddle            2014-02-19   \n",
       "...     ...                  ...        ...        ...                   ...   \n",
       "7209  10996        steven butler     steven     butler            2013-11-23   \n",
       "7210  10997      malcolm simmons    malcolm    simmons            2014-02-01   \n",
       "7211  10999      winston gregory    winston    gregory            2014-01-14   \n",
       "7212  11000          farrah jean     farrah       jean            2014-03-09   \n",
       "7213  11001  florencia sanmartin  florencia  sanmartin            2014-06-30   \n",
       "\n",
       "         sex         dob  age          age_cat              race  ...  \\\n",
       "0       Male  1947-04-18   69  Greater than 45             Other  ...   \n",
       "1       Male  1982-01-22   34          25 - 45  African-American  ...   \n",
       "2       Male  1991-05-14   24     Less than 25  African-American  ...   \n",
       "5       Male  1971-08-22   44          25 - 45             Other  ...   \n",
       "6       Male  1974-07-23   41          25 - 45         Caucasian  ...   \n",
       "...      ...         ...  ...              ...               ...  ...   \n",
       "7209    Male  1992-07-17   23     Less than 25  African-American  ...   \n",
       "7210    Male  1993-03-25   23     Less than 25  African-American  ...   \n",
       "7211    Male  1958-10-01   57  Greater than 45             Other  ...   \n",
       "7212  Female  1982-11-17   33          25 - 45  African-American  ...   \n",
       "7213  Female  1992-12-18   23     Less than 25          Hispanic  ...   \n",
       "\n",
       "      v_decile_score  v_score_text  v_screening_date  in_custody  out_custody  \\\n",
       "0                  1           Low        2013-08-14  2014-07-07   2014-07-14   \n",
       "1                  1           Low        2013-01-27  2013-01-26   2013-02-05   \n",
       "2                  3           Low        2013-04-14  2013-06-16   2013-06-16   \n",
       "5                  1           Low        2013-11-30  2013-11-30   2013-12-01   \n",
       "6                  2           Low        2014-02-19  2014-03-31   2014-04-18   \n",
       "...              ...           ...               ...         ...          ...   \n",
       "7209               5        Medium        2013-11-23  2013-11-22   2013-11-24   \n",
       "7210               5        Medium        2014-02-01  2014-01-31   2014-02-02   \n",
       "7211               1           Low        2014-01-14  2014-01-13   2014-01-14   \n",
       "7212               2           Low        2014-03-09  2014-03-08   2014-03-09   \n",
       "7213               4           Low        2014-06-30  2015-03-15   2015-03-15   \n",
       "\n",
       "      priors_count.1 start  end event two_year_recid  \n",
       "0                  0     0  327     0              0  \n",
       "1                  0     9  159     1              1  \n",
       "2                  4     0   63     0              1  \n",
       "5                  0     1  853     0              0  \n",
       "6                 14     5   40     1              1  \n",
       "...              ...   ...  ...   ...            ...  \n",
       "7209               0     1  860     0              0  \n",
       "7210               0     1  790     0              0  \n",
       "7211               0     0  808     0              0  \n",
       "7212               3     0  754     0              0  \n",
       "7213               2     0  258     0              1  \n",
       "\n",
       "[6172 rows x 53 columns]"
      ]
     },
     "execution_count": 3,
     "metadata": {},
     "output_type": "execute_result"
    }
   ],
   "source": [
    "# Filtering\n",
    "compas = pd.read_csv(\"compas-scores-two-years.csv\")\n",
    "compas = compas[compas['days_b_screening_arrest'] >= -30]\n",
    "compas = compas[compas['days_b_screening_arrest'] <= 30]\n",
    "compas"
   ]
  },
  {
   "cell_type": "markdown",
   "id": "italic-criticism",
   "metadata": {},
   "source": [
    "# A"
   ]
  },
  {
   "cell_type": "code",
   "execution_count": null,
   "id": "bearing-arctic",
   "metadata": {},
   "outputs": [],
   "source": [
    "# Should be a line plot"
   ]
  },
  {
   "cell_type": "code",
   "execution_count": 4,
   "id": "aerial-shoulder",
   "metadata": {},
   "outputs": [],
   "source": [
    "# Separate race\n",
    "b = compas[compas['race'] == 'African-American']\n",
    "b = b[b['two_year_recid'] == 1]\n",
    "w = compas[compas['race'] == 'Caucasian']\n",
    "w = w[w['two_year_recid'] == 1]"
   ]
  },
  {
   "cell_type": "code",
   "execution_count": 10,
   "id": "focused-companion",
   "metadata": {},
   "outputs": [
    {
     "data": {
      "text/plain": [
       "[<matplotlib.lines.Line2D at 0x7fb93b49dfd0>]"
      ]
     },
     "execution_count": 10,
     "metadata": {},
     "output_type": "execute_result"
    },
    {
     "data": {
      "image/png": "[encoded data removed]",
      "text/plain": [
       "<Figure size 432x288 with 1 Axes>"
      ]
     },
     "metadata": {
      "needs_background": "light"
     },
     "output_type": "display_data"
    }
   ],
   "source": [
    "plt.title(\"Race = African American\")\n",
    "plt.xlabel(\"Decile Score\")\n",
    "b_counts = []\n",
    "for i in range(1, 11):\n",
    "    count = b[b['decile_score'] == i]\n",
    "    b_counts.append(count.shape[0])\n",
    "\n",
    "sum_c = sum(b_counts)\n",
    "b_counts = [x/sum_c for x in b_counts]\n",
    "plt.ylabel(\"Fraction of Defendants\")\n",
    "plt.plot([i for i in range(1, 11)], b_counts)"
   ]
  },
  {
   "cell_type": "code",
   "execution_count": 11,
   "id": "turned-triangle",
   "metadata": {},
   "outputs": [
    {
     "data": {
      "text/plain": [
       "[<matplotlib.lines.Line2D at 0x7fb93aad7710>]"
      ]
     },
     "execution_count": 11,
     "metadata": {},
     "output_type": "execute_result"
    },
    {
     "data": {
      "image/png": "[encoded data removed]",
      "text/plain": [
       "<Figure size 432x288 with 1 Axes>"
      ]
     },
     "metadata": {
      "needs_background": "light"
     },
     "output_type": "display_data"
    }
   ],
   "source": [
    "plt.title(\"Race = Caucasian\")\n",
    "plt.xlabel(\"Decile Score\")\n",
    "w_counts = []\n",
    "for i in range(1, 11):\n",
    "    count = w[w['decile_score'] == i]\n",
    "    w_counts.append(count.shape[0])\n",
    "\n",
    "sum_c = sum(w_counts)\n",
    "w_counts = [x/sum_c for x in w_counts]\n",
    "plt.ylabel(\"Fraction of Defendants\")\n",
    "plt.plot([i for i in range(1, 11)], w_counts)"
   ]
  },
  {
   "cell_type": "markdown",
   "id": "answering-highland",
   "metadata": {},
   "source": [
    "# B"
   ]
  },
  {
   "cell_type": "markdown",
   "id": "contrary-groove",
   "metadata": {},
   "source": [
    "* Don't satisfy sufficiency. The probability of being in the 2 year rec ID score based on decile is definitely dependent on race, the sensitive characteristic. If they were sufficient, the two plots in A would have the same trajectory. "
   ]
  },
  {
   "cell_type": "markdown",
   "id": "sealed-samuel",
   "metadata": {},
   "source": [
    "# C"
   ]
  },
  {
   "cell_type": "code",
   "execution_count": 12,
   "id": "sorted-vatican",
   "metadata": {},
   "outputs": [
    {
     "name": "stderr",
     "output_type": "stream",
     "text": [
      "/Users/aishwaryamandyam/anaconda3/envs/research/lib/python3.7/site-packages/seaborn/distributions.py:2557: FutureWarning: `distplot` is a deprecated function and will be removed in a future version. Please adapt your code to use either `displot` (a figure-level function with similar flexibility) or `histplot` (an axes-level function for histograms).\n",
      "  warnings.warn(msg, FutureWarning)\n",
      "/Users/aishwaryamandyam/anaconda3/envs/research/lib/python3.7/site-packages/seaborn/distributions.py:2557: FutureWarning: `distplot` is a deprecated function and will be removed in a future version. Please adapt your code to use either `displot` (a figure-level function with similar flexibility) or `histplot` (an axes-level function for histograms).\n",
      "  warnings.warn(msg, FutureWarning)\n"
     ]
    },
    {
     "data": {
      "text/plain": [
       "<matplotlib.legend.Legend at 0x7fb93b482210>"
      ]
     },
     "execution_count": 12,
     "metadata": {},
     "output_type": "execute_result"
    },
    {
     "data": {
      "image/png": "[encoded data removed]",
      "text/plain": [
       "<Figure size 432x288 with 1 Axes>"
      ]
     },
     "metadata": {
      "needs_background": "light"
     },
     "output_type": "display_data"
    }
   ],
   "source": [
    "# White defendants\n",
    "w = compas[compas['race'] == 'Caucasian']\n",
    "w_p = w[w['two_year_recid'] == 1]\n",
    "w_n = w[w['two_year_recid'] == 0]\n",
    "plt.title(\"Distribution of score for Caucasian defendants\")\n",
    "sns.distplot(list(w_p['decile_score']), label='Positive Class')\n",
    "sns.distplot(list(w_n['decile_score']), label='Negative Class')\n",
    "plt.xlabel(\"Decile Score\")\n",
    "plt.legend()"
   ]
  },
  {
   "cell_type": "code",
   "execution_count": 13,
   "id": "current-election",
   "metadata": {},
   "outputs": [
    {
     "name": "stderr",
     "output_type": "stream",
     "text": [
      "/Users/aishwaryamandyam/anaconda3/envs/research/lib/python3.7/site-packages/seaborn/distributions.py:2557: FutureWarning: `distplot` is a deprecated function and will be removed in a future version. Please adapt your code to use either `displot` (a figure-level function with similar flexibility) or `histplot` (an axes-level function for histograms).\n",
      "  warnings.warn(msg, FutureWarning)\n",
      "/Users/aishwaryamandyam/anaconda3/envs/research/lib/python3.7/site-packages/seaborn/distributions.py:2557: FutureWarning: `distplot` is a deprecated function and will be removed in a future version. Please adapt your code to use either `displot` (a figure-level function with similar flexibility) or `histplot` (an axes-level function for histograms).\n",
      "  warnings.warn(msg, FutureWarning)\n"
     ]
    },
    {
     "data": {
      "text/plain": [
       "<matplotlib.legend.Legend at 0x7fb93bb35d90>"
      ]
     },
     "execution_count": 13,
     "metadata": {},
     "output_type": "execute_result"
    },
    {
     "data": {
      "image/png": "[encoded data removed]",
      "text/plain": [
       "<Figure size 432x288 with 1 Axes>"
      ]
     },
     "metadata": {
      "needs_background": "light"
     },
     "output_type": "display_data"
    }
   ],
   "source": [
    "# Black defendants\n",
    "b = compas[compas['race'] == 'African-American']\n",
    "b_p = b[b['two_year_recid'] == 1]\n",
    "b_n = b[b['two_year_recid'] == 0]\n",
    "plt.title(\"Distribution of score for African-American defendants\")\n",
    "sns.distplot(list(b_p['decile_score']), label='Positive Class')\n",
    "sns.distplot(list(b_n['decile_score']), label='Negative Class')\n",
    "plt.xlabel(\"Decile Score\")\n",
    "plt.legend()"
   ]
  },
  {
   "cell_type": "markdown",
   "id": "progressive-affair",
   "metadata": {},
   "source": [
    "# D"
   ]
  },
  {
   "cell_type": "markdown",
   "id": "burning-australian",
   "metadata": {},
   "source": [
    "* Not for either race. In white defendants, people in the positive class are split across decile scores uniformly. In black defendants, people in the positive class are highly likely to have higher decile scores. It seems like race plays a factor in the decile score. "
   ]
  },
  {
   "cell_type": "markdown",
   "id": "sustainable-marketplace",
   "metadata": {},
   "source": [
    "# E"
   ]
  },
  {
   "cell_type": "markdown",
   "id": "known-error",
   "metadata": {},
   "source": [
    "## Positive Predictive Value"
   ]
  },
  {
   "cell_type": "code",
   "execution_count": 14,
   "id": "interesting-flexibility",
   "metadata": {},
   "outputs": [
    {
     "name": "stdout",
     "output_type": "stream",
     "text": [
      "Positive Predictive Value, Black:  0.8103552077062011\n"
     ]
    }
   ],
   "source": [
    "# Black defendants\n",
    "b = compas[compas['race'] == 'African-American']\n",
    "b_p = b[b['two_year_recid'] == 1]\n",
    "num_positive = b_p.shape[0]\n",
    "b_p_t = b_p[b_p['decile_score'] >= 4]\n",
    "tp = b_p_t.shape[0]\n",
    "\n",
    "print(\"Positive Predictive Value, Black: \", tp/num_positive)"
   ]
  },
  {
   "cell_type": "code",
   "execution_count": 15,
   "id": "enormous-jacksonville",
   "metadata": {},
   "outputs": [
    {
     "name": "stdout",
     "output_type": "stream",
     "text": [
      "Positive Predictive Value, White:  0.6228710462287105\n"
     ]
    }
   ],
   "source": [
    "# White defendants\n",
    "w = compas[compas['race'] == 'Caucasian']\n",
    "w_p = w[w['two_year_recid'] == 1]\n",
    "num_positive = w_p.shape[0]\n",
    "w_p_t = w_p[w_p['decile_score'] >= 4]\n",
    "tp = w_p_t.shape[0]\n",
    "\n",
    "print(\"Positive Predictive Value, White: \", tp/num_positive)"
   ]
  },
  {
   "cell_type": "markdown",
   "id": "changing-contract",
   "metadata": {},
   "source": [
    "## False Positive Rate"
   ]
  },
  {
   "cell_type": "code",
   "execution_count": 16,
   "id": "dense-sewing",
   "metadata": {},
   "outputs": [
    {
     "name": "stdout",
     "output_type": "stream",
     "text": [
      "Positive Predictive Value, Black:  0.5416116248348745\n"
     ]
    }
   ],
   "source": [
    "# Black defendants\n",
    "b = compas[compas['race'] == 'African-American']\n",
    "b_n = b[b['two_year_recid'] == 0]\n",
    "num_negative = b_n.shape[0]\n",
    "\n",
    "b_n_f = b_n[b_n['decile_score'] >= 4]\n",
    "fp = b_n_f.shape[0]\n",
    "\n",
    "print(\"False Positive Rate, Black: \", fp/num_negative)"
   ]
  },
  {
   "cell_type": "code",
   "execution_count": 17,
   "id": "painful-column",
   "metadata": {},
   "outputs": [
    {
     "name": "stdout",
     "output_type": "stream",
     "text": [
      "Positive Predictive Value, White:  0.3333333333333333\n"
     ]
    }
   ],
   "source": [
    "# White defendants\n",
    "w = compas[compas['race'] == 'Caucasian']\n",
    "w_n = w[w['two_year_recid'] == 0]\n",
    "num_negative = w_n.shape[0]\n",
    "\n",
    "w_n_f = w_n[w_n['decile_score'] >= 4]\n",
    "fp = w_n_f.shape[0]\n",
    "\n",
    "print(\"False Positive Rate, White: \", fp/num_negative)"
   ]
  },
  {
   "cell_type": "markdown",
   "id": "above-reaction",
   "metadata": {},
   "source": [
    "## False Negative Rate"
   ]
  },
  {
   "cell_type": "code",
   "execution_count": 19,
   "id": "presidential-patient",
   "metadata": {},
   "outputs": [
    {
     "name": "stdout",
     "output_type": "stream",
     "text": [
      "Positive Predictive Value, Black:  0.2847682119205298\n"
     ]
    }
   ],
   "source": [
    "# Black defendants\n",
    "b = compas[compas['race'] == 'African-American']\n",
    "b_p = b[b['two_year_recid'] == 1]\n",
    "num_positive = b_p.shape[0]\n",
    "b_p_f = b_p[b_p['decile_score'] < 4]\n",
    "fn = b_p_f.shape[0]\n",
    "\n",
    "print(\"False Negative Rate, Black: \", fn/num_positive)"
   ]
  },
  {
   "cell_type": "code",
   "execution_count": 21,
   "id": "statewide-aquarium",
   "metadata": {},
   "outputs": [
    {
     "name": "stdout",
     "output_type": "stream",
     "text": [
      "Positive Predictive Value, Black:  0.49635036496350365\n"
     ]
    }
   ],
   "source": [
    "# White defendants\n",
    "w = compas[compas['race'] == 'Caucasian']\n",
    "w_p = w[w['two_year_recid'] == 1]\n",
    "num_positive = w_p.shape[0]\n",
    "w_p_f = w_p[w_p['decile_score'] < 4]\n",
    "fn = w_p_f.shape[0]\n",
    "\n",
    "print(\"False Negative Rate, White: \", fn/num_positive)"
   ]
  },
  {
   "cell_type": "markdown",
   "id": "owned-creation",
   "metadata": {},
   "source": [
    "# F"
   ]
  },
  {
   "cell_type": "code",
   "execution_count": 31,
   "id": "laughing-preliminary",
   "metadata": {},
   "outputs": [],
   "source": [
    "def test_fpr_fnr(threshold_black, threshold_white):\n",
    "    # Black defendants\n",
    "    b = compas[compas['race'] == 'African-American']\n",
    "    b_n = b[b['two_year_recid'] == 0]\n",
    "    num_negative = b_n.shape[0]\n",
    "\n",
    "    b_n_f = b_n[b_n['decile_score'] >= threshold_black]\n",
    "    fp = b_n_f.shape[0]\n",
    "\n",
    "    print(\"False Positive Rate, Black: \", fp/num_negative)\n",
    "\n",
    "    # White defendants\n",
    "    w = compas[compas['race'] == 'Caucasian']\n",
    "    w_n = w[w['two_year_recid'] == 0]\n",
    "    num_negative = w_n.shape[0]\n",
    "\n",
    "    w_n_f = w_n[w_n['decile_score'] >= threshold_white]\n",
    "    fp = w_n_f.shape[0]\n",
    "\n",
    "    print(\"False Positive Rate, White: \", fp/num_negative)\n",
    "    \n",
    "    \n",
    "    # Black defendants\n",
    "    b = compas[compas['race'] == 'African-American']\n",
    "    b_p = b[b['two_year_recid'] == 1]\n",
    "    num_positive = b_p.shape[0]\n",
    "    b_p_f = b_p[b_p['decile_score'] < threshold_black]\n",
    "    fn = b_p_f.shape[0]\n",
    "\n",
    "    print(\"False Negative Rate, Black: \", fn/num_positive)\n",
    "    \n",
    "    # White defendants\n",
    "    w = compas[compas['race'] == 'Caucasian']\n",
    "    w_p = w[w['two_year_recid'] == 1]\n",
    "    num_positive = w_p.shape[0]\n",
    "    w_p_f = w_p[w_p['decile_score'] < threshold_white]\n",
    "    fn = w_p_f.shape[0]\n",
    "\n",
    "    print(\"False Negative Rate, White: \", fn/num_positive)"
   ]
  },
  {
   "cell_type": "code",
   "execution_count": 39,
   "id": "atlantic-moscow",
   "metadata": {},
   "outputs": [
    {
     "name": "stdout",
     "output_type": "stream",
     "text": [
      "False Positive Rate, Black:  0.4233817701453104\n",
      "False Positive Rate, White:  0.45511319281811086\n",
      "False Negative Rate, Black:  0.2847682119205298\n",
      "False Negative Rate, White:  0.2773722627737226\n"
     ]
    }
   ],
   "source": [
    "test_fpr_fnr(5, 3)"
   ]
  },
  {
   "cell_type": "markdown",
   "id": "proof-balance",
   "metadata": {},
   "source": [
    "* With a threshold of 5 for black defendants and a threshold of 3 for white defendants, we can get very similar FPR and FNR scores. "
   ]
  },
  {
   "cell_type": "code",
   "execution_count": 40,
   "id": "amazing-desire",
   "metadata": {},
   "outputs": [
    {
     "name": "stdout",
     "output_type": "stream",
     "text": [
      "Positive Predictive Value, Black:  0.7152317880794702\n"
     ]
    }
   ],
   "source": [
    "# Black defendants\n",
    "b = compas[compas['race'] == 'African-American']\n",
    "b_p = b[b['two_year_recid'] == 1]\n",
    "num_positive = b_p.shape[0]\n",
    "b_p_t = b_p[b_p['decile_score'] >= 5]\n",
    "tp = b_p_t.shape[0]\n",
    "\n",
    "print(\"Positive Predictive Value, Black: \", tp/num_positive)"
   ]
  },
  {
   "cell_type": "code",
   "execution_count": 41,
   "id": "educated-motor",
   "metadata": {},
   "outputs": [
    {
     "name": "stdout",
     "output_type": "stream",
     "text": [
      "Positive Predictive Value, White:  0.7226277372262774\n"
     ]
    }
   ],
   "source": [
    "# White defendants\n",
    "w = compas[compas['race'] == 'Caucasian']\n",
    "w_p = w[w['two_year_recid'] == 1]\n",
    "num_positive = w_p.shape[0]\n",
    "w_p_t = w_p[w_p['decile_score'] >= 3]\n",
    "tp = w_p_t.shape[0]\n",
    "\n",
    "print(\"Positive Predictive Value, White: \", tp/num_positive)"
   ]
  },
  {
   "cell_type": "markdown",
   "id": "distributed-water",
   "metadata": {},
   "source": [
    "# G"
   ]
  },
  {
   "cell_type": "code",
   "execution_count": 42,
   "id": "physical-generation",
   "metadata": {},
   "outputs": [
    {
     "name": "stdout",
     "output_type": "stream",
     "text": [
      "Recidivism Rate for <= 25:  0.5514705882352942\n"
     ]
    }
   ],
   "source": [
    "young = compas[compas['age'] <= 25]\n",
    "young_r = young[young['two_year_recid'] == 1]\n",
    "print(\"Recidivism Rate for <= 25: \", young_r.shape[0]/young.shape[0])"
   ]
  },
  {
   "cell_type": "code",
   "execution_count": 43,
   "id": "cooperative-textbook",
   "metadata": {},
   "outputs": [
    {
     "name": "stdout",
     "output_type": "stream",
     "text": [
      "Recidivism Rate for >= 50:  0.30469644902634596\n"
     ]
    }
   ],
   "source": [
    "old = compas[compas['age'] >= 50]\n",
    "old_r = old[old['two_year_recid'] == 1]\n",
    "print(\"Recidivism Rate for >= 50: \", old_r.shape[0]/old.shape[0])"
   ]
  },
  {
   "cell_type": "markdown",
   "id": "running-newcastle",
   "metadata": {},
   "source": [
    "# H"
   ]
  },
  {
   "cell_type": "markdown",
   "id": "charged-criterion",
   "metadata": {},
   "source": [
    "Under a theory of incarceration as incapacitation, if the only goal is reduce the rate of crime, it makes sense to incarcerate younger people that commit a crime at a higher rate than older people. This allows the rate of recidividism in younger people to decrease."
   ]
  },
  {
   "cell_type": "markdown",
   "id": "suitable-mississippi",
   "metadata": {},
   "source": [
    "With a rehabilitative approach, it makes sense to refer younger people that commit a crime to rehabilitative service at a higher rate than older criminals. This in turn can help younger criminals not recidivate, thus lowering total crime. "
   ]
  },
  {
   "cell_type": "markdown",
   "id": "leading-russian",
   "metadata": {},
   "source": [
    "Under a retributive theory of justice, younger defendants are more blameworthy or may have less control over their actions due to environments that they are in. If a younger criminal is in an environment that is unsuitable and likely to inspire recidivism, the government should intervene and put them in more suitable environments. This is a higher level of intervention than rehabilitation, it is changing the environment. "
   ]
  },
  {
   "cell_type": "code",
   "execution_count": null,
   "id": "plain-indicator",
   "metadata": {},
   "outputs": [],
   "source": []
  }
 ],
 "metadata": {
  "kernelspec": {
   "display_name": "Python 3",
   "language": "python",
   "name": "python3"
  },
  "language_info": {
   "codemirror_mode": {
    "name": "ipython",
    "version": 3
   },
   "file_extension": ".py",
   "mimetype": "text/x-python",
   "name": "python",
   "nbconvert_exporter": "python",
   "pygments_lexer": "ipython3",
   "version": "3.7.9"
  },
  "toc": {
   "base_numbering": 1,
   "nav_menu": {},
   "number_sections": true,
   "sideBar": true,
   "skip_h1_title": false,
   "title_cell": "Table of Contents",
   "title_sidebar": "Contents",
   "toc_cell": false,
   "toc_position": {},
   "toc_section_display": true,
   "toc_window_display": false
  }
 },
 "nbformat": 4,
 "nbformat_minor": 5
}
