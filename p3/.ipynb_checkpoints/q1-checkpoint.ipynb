{
 "cells": [
  {
   "cell_type": "markdown",
   "id": "optical-diversity",
   "metadata": {},
   "source": [
    "# The slippery direct effect"
   ]
  },
  {
   "cell_type": "markdown",
   "id": "honey-poison",
   "metadata": {},
   "source": [
    "# A\n",
    "* A mediating variable in this case is the assumed knowledge about the car market and buying a car. "
   ]
  },
  {
   "cell_type": "markdown",
   "id": "herbal-radius",
   "metadata": {},
   "source": [
    "# B\n",
    "* The amount of funding that the department gets and gives to students. This could be more for highly competitive departments. "
   ]
  },
  {
   "cell_type": "markdown",
   "id": "greater-illustration",
   "metadata": {},
   "source": [
    "# C\n",
    "* The percentage of people at the company that attended that university. "
   ]
  },
  {
   "cell_type": "markdown",
   "id": "damaged-malaysia",
   "metadata": {},
   "source": [
    "# D\n",
    "* Let's fix the unit of investigation as encounters. A confounding variable is the age of the driver. Another confounding variable is the type of car (i.e. sports car). A mediating variable is "
   ]
  },
  {
   "cell_type": "code",
   "execution_count": null,
   "id": "typical-curtis",
   "metadata": {},
   "outputs": [],
   "source": []
  }
 ],
 "metadata": {
  "kernelspec": {
   "display_name": "Python 3",
   "language": "python",
   "name": "python3"
  },
  "language_info": {
   "codemirror_mode": {
    "name": "ipython",
    "version": 3
   },
   "file_extension": ".py",
   "mimetype": "text/x-python",
   "name": "python",
   "nbconvert_exporter": "python",
   "pygments_lexer": "ipython3",
   "version": "3.7.9"
  },
  "toc": {
   "base_numbering": 1,
   "nav_menu": {},
   "number_sections": true,
   "sideBar": true,
   "skip_h1_title": false,
   "title_cell": "Table of Contents",
   "title_sidebar": "Contents",
   "toc_cell": false,
   "toc_position": {},
   "toc_section_display": true,
   "toc_window_display": false
  }
 },
 "nbformat": 4,
 "nbformat_minor": 5
}
