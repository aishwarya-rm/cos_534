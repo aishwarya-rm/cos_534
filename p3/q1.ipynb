{
 "cells": [
  {
   "cell_type": "markdown",
   "id": "optical-diversity",
   "metadata": {},
   "source": [
    "# The slippery direct effect"
   ]
  },
  {
   "cell_type": "markdown",
   "id": "honey-poison",
   "metadata": {},
   "source": [
    "# A\n",
    "* A mediating variable in this case is the reservation price. The dealers assume that black buyers are likely to spend less and white buyers are likely to spend more. However, dealers tend to start with high prices for black buyers to understand whether they are likely to pay a reasonable price (from the dealer's perspective) for the car. This can affect both the likelihood that black buyers will buy the car and also affects the price that they pay for it. \n",
    "* It seems like the total effect captured both by race and the mediating variable explains some of what I understand about discrimination in this scenario. It is not just that race affects the offer, it is also that dealers assume buying tendencies. However, there are a number of other factors like dealership location and accent that aren't controlled for here. Race is captured in many different ways that we aren't considering in this causal model, and it feels like race and reservation price don't fully explain the discrimination in offers. "
   ]
  },
  {
   "cell_type": "markdown",
   "id": "herbal-radius",
   "metadata": {},
   "source": [
    "# B\n",
    "* A mediating factor is the individual want to be attached to a department with a lot of funding. Even though women overall have lower acceptance than men, they tend to apply to more competitive departments and get accepted at a higher rate in these departments. \n",
    "* Discrimination in this case is more explained by the total effect that includes the mediating variable. As we've discussed in class, this scenario is an instance of Simpson's Paradox, where the trend overall in acceptances is different from the trend in acceptances per department. Without considering a mediating variable like funding, we don't understand what discrimination is at play here. "
   ]
  },
  {
   "cell_type": "markdown",
   "id": "greater-illustration",
   "metadata": {},
   "source": [
    "# C\n",
    "* A mediating factor is the alumni network for a particular college at that company. From the company's perspective, hiring workers similar to those they have already hired is important, and college is a great factor in determining similarity. In this case, the alumni network factir and the college rank both contribute to getting hired. \n",
    "* I think the discrimination in this case is captured by the total effect. While college rank is an important factor in being hired, the alumni network is also important to measure discrimination; it's likely that an alumni connection can increase the probability of being hired.  "
   ]
  },
  {
   "cell_type": "markdown",
   "id": "damaged-malaysia",
   "metadata": {},
   "source": [
    "# D\n",
    "* Let's fix the unit of investigation as encounters. When we use encounters, we can include factors that are observational that don't have anything to do with where the driver is traveling. In this case, confounding variables include the age and gender of the driver. Red cars are more likely to be driven by younger males who may already be at higher risk of being stopped. These red cars could have their windows rolled down or be convertibles so age and gender are visible. Age and gender are confounding factors since they affect both \n",
    "* A mediating variable is the likelihood of being noticed. Red cars are more visible since the color red is at a lower frequency; this is very similar to how school buses are yellow which is at a lower frequency so that they can be better noticed on the road. This is a mediating variable since it also affects whether a car is stopped. "
   ]
  },
  {
   "cell_type": "markdown",
   "id": "interior-participation",
   "metadata": {},
   "source": [
    "<img src=\"ps3_1d.png\">"
   ]
  },
  {
   "cell_type": "markdown",
   "id": "partial-confidence",
   "metadata": {},
   "source": [
    "* My intuition is that the path from red car to likelihood of being seen to stopped by police is the most reasonable way to understand why red cars are stopped more than non red cars. I think additional stereotypes about age and gender associated with a red car definitely help, but the fact that police officers are likely to see a red car is the biggest causal factor. "
   ]
  },
  {
   "cell_type": "code",
   "execution_count": null,
   "id": "dependent-significance",
   "metadata": {},
   "outputs": [],
   "source": []
  }
 ],
 "metadata": {
  "kernelspec": {
   "display_name": "Python 3",
   "language": "python",
   "name": "python3"
  },
  "language_info": {
   "codemirror_mode": {
    "name": "ipython",
    "version": 3
   },
   "file_extension": ".py",
   "mimetype": "text/x-python",
   "name": "python",
   "nbconvert_exporter": "python",
   "pygments_lexer": "ipython3",
   "version": "3.7.9"
  },
  "toc": {
   "base_numbering": 1,
   "nav_menu": {},
   "number_sections": true,
   "sideBar": true,
   "skip_h1_title": false,
   "title_cell": "Table of Contents",
   "title_sidebar": "Contents",
   "toc_cell": false,
   "toc_position": {},
   "toc_section_display": true,
   "toc_window_display": false
  }
 },
 "nbformat": 4,
 "nbformat_minor": 5
}
